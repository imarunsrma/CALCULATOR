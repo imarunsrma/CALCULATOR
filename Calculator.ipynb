{
 "cells": [
  {
   "cell_type": "code",
   "execution_count": 9,
   "id": "a8f8c500-10fa-4fc4-ba43-ab4fe4707715",
   "metadata": {},
   "outputs": [
    {
     "name": "stdout",
     "output_type": "stream",
     "text": [
      "Select operation:\n",
      "1. Addition\n",
      "2. Subtraction\n",
      "3. Multiplication\n",
      "4. Division\n"
     ]
    },
    {
     "name": "stdin",
     "output_type": "stream",
     "text": [
      "Enter choice (1/2/3/4):  4\n",
      "Enter first number:  50\n",
      "Enter second number:  25\n"
     ]
    },
    {
     "name": "stdout",
     "output_type": "stream",
     "text": [
      "Result: 2.0\n"
     ]
    }
   ],
   "source": [
    "# Function to add two numbers\n",
    "def addition(x, y):\n",
    "    return x + y\n",
    "\n",
    "# Function to subtract two numbers\n",
    "def subtraction(x, y):\n",
    "    return x - y\n",
    "\n",
    "# Function to multiply two numbers\n",
    "def multiplication(x, y):\n",
    "    return x * y\n",
    "\n",
    "# Function to divide two numbers\n",
    "def division(x, y):\n",
    "    if y == 0:\n",
    "        return \"Error! Division by zero.\"\n",
    "    return x / y\n",
    "\n",
    "# Main calculator function\n",
    "def calculator():\n",
    "    print(\"Select operation:\")\n",
    "    print(\"1. Addition\")\n",
    "    print(\"2. Subtraction\")\n",
    "    print(\"3. Multiplication\")\n",
    "    print(\"4. Division\")\n",
    "\n",
    "    choice = input(\"Enter choice (1/2/3/4): \")\n",
    "\n",
    "    # Check if choice is one of the options\n",
    "    if choice in ['1', '2', '3', '4']:\n",
    "        num1 = float(input(\"Enter first number: \"))\n",
    "        num2 = float(input(\"Enter second number: \"))\n",
    "\n",
    "        if choice == '1':\n",
    "            print(\"Result:\", addition(num1, num2))\n",
    "        elif choice == '2':\n",
    "            print(\"Result:\", subtraction(num1, num2))\n",
    "        elif choice == '3':\n",
    "            print(\"Result:\", multiplication(num1, num2))\n",
    "        elif choice == '4':\n",
    "            print(\"Result:\", division(num1, num2))\n",
    "    else:\n",
    "        print(\"Invalid input! Please select a valid operation.\")\n",
    "\n",
    "# Running the calculator Now()\n",
    "calculator()"
   ]
  }
 ],
 "metadata": {
  "kernelspec": {
   "display_name": "Python 3 (ipykernel)",
   "language": "python",
   "name": "python3"
  },
  "language_info": {
   "codemirror_mode": {
    "name": "ipython",
    "version": 3
   },
   "file_extension": ".py",
   "mimetype": "text/x-python",
   "name": "python",
   "nbconvert_exporter": "python",
   "pygments_lexer": "ipython3",
   "version": "3.12.4"
  }
 },
 "nbformat": 4,
 "nbformat_minor": 5
}
